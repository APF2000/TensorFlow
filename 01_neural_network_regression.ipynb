{
 "cells": [
  {
   "cell_type": "code",
   "execution_count": 15,
   "metadata": {},
   "outputs": [],
   "source": [
    "import tensorflow as tf\n",
    "import matplotlib.pyplot as plt\n",
    "import numpy as np"
   ]
  },
  {
   "cell_type": "code",
   "execution_count": 16,
   "metadata": {},
   "outputs": [],
   "source": [
    "X = np.array([-7.0, -4.0, 2.0, 8.0, 14.0])\n",
    "y = np.array([3.0, 6.0, 12.0, 18.0, 24.0])"
   ]
  },
  {
   "cell_type": "code",
   "execution_count": 17,
   "metadata": {},
   "outputs": [
    {
     "data": {
      "text/plain": [
       "<matplotlib.collections.PathCollection at 0x7f8c44513850>"
      ]
     },
     "execution_count": 17,
     "metadata": {},
     "output_type": "execute_result"
    },
    {
     "data": {
      "image/png": "[encoded data removed]",
      "text/plain": [
       "<Figure size 640x480 with 1 Axes>"
      ]
     },
     "metadata": {},
     "output_type": "display_data"
    }
   ],
   "source": [
    "plt.scatter(X, y)"
   ]
  },
  {
   "cell_type": "code",
   "execution_count": 18,
   "metadata": {},
   "outputs": [],
   "source": [
    "house_info = tf.constant([\"bed\", \"bath\", \"gar\"])\n",
    "house_price = tf.constant([939700])"
   ]
  },
  {
   "cell_type": "code",
   "execution_count": 19,
   "metadata": {},
   "outputs": [],
   "source": [
    "X = tf.constant(X)\n",
    "y = tf.constant(y)"
   ]
  },
  {
   "cell_type": "code",
   "execution_count": 20,
   "metadata": {},
   "outputs": [
    {
     "name": "stdout",
     "output_type": "stream",
     "text": [
      "Epoch 1/100\n",
      "1/1 [==============================] - 0s 130ms/step - loss: 19.2934 - mae: 19.2934\n",
      "Epoch 2/100\n",
      "1/1 [==============================] - 0s 2ms/step - loss: 18.9982 - mae: 18.9982\n",
      "Epoch 3/100\n",
      "1/1 [==============================] - 0s 2ms/step - loss: 18.7030 - mae: 18.7030\n",
      "Epoch 4/100\n",
      "1/1 [==============================] - 0s 2ms/step - loss: 18.4078 - mae: 18.4078\n",
      "Epoch 5/100\n",
      "1/1 [==============================] - 0s 2ms/step - loss: 18.1126 - mae: 18.1126\n",
      "Epoch 6/100\n",
      "1/1 [==============================] - 0s 2ms/step - loss: 17.8174 - mae: 17.8174\n",
      "Epoch 7/100\n",
      "1/1 [==============================] - 0s 2ms/step - loss: 17.5222 - mae: 17.5222\n",
      "Epoch 8/100\n",
      "1/1 [==============================] - 0s 2ms/step - loss: 17.2270 - mae: 17.2270\n",
      "Epoch 9/100\n",
      "1/1 [==============================] - 0s 1ms/step - loss: 16.9318 - mae: 16.9318\n",
      "Epoch 10/100\n",
      "1/1 [==============================] - 0s 1ms/step - loss: 16.6366 - mae: 16.6366\n",
      "Epoch 11/100\n",
      "1/1 [==============================] - 0s 2ms/step - loss: 16.3414 - mae: 16.3414\n",
      "Epoch 12/100\n",
      "1/1 [==============================] - 0s 2ms/step - loss: 16.0462 - mae: 16.0462\n",
      "Epoch 13/100\n",
      "1/1 [==============================] - 0s 3ms/step - loss: 15.7510 - mae: 15.7510\n",
      "Epoch 14/100\n",
      "1/1 [==============================] - 0s 2ms/step - loss: 15.4558 - mae: 15.4558\n",
      "Epoch 15/100\n",
      "1/1 [==============================] - 0s 2ms/step - loss: 15.1606 - mae: 15.1606\n",
      "Epoch 16/100\n",
      "1/1 [==============================] - 0s 2ms/step - loss: 14.8654 - mae: 14.8654\n",
      "Epoch 17/100\n",
      "1/1 [==============================] - 0s 1ms/step - loss: 14.5702 - mae: 14.5702\n",
      "Epoch 18/100\n",
      "1/1 [==============================] - 0s 1ms/step - loss: 14.2750 - mae: 14.2750\n",
      "Epoch 19/100\n",
      "1/1 [==============================] - 0s 2ms/step - loss: 13.9798 - mae: 13.9798\n",
      "Epoch 20/100\n",
      "1/1 [==============================] - 0s 3ms/step - loss: 13.6846 - mae: 13.6846\n",
      "Epoch 21/100\n",
      "1/1 [==============================] - 0s 2ms/step - loss: 13.4725 - mae: 13.4725\n",
      "Epoch 22/100\n",
      "1/1 [==============================] - 0s 2ms/step - loss: 13.3949 - mae: 13.3949\n",
      "Epoch 23/100\n",
      "1/1 [==============================] - 0s 2ms/step - loss: 13.3173 - mae: 13.3173\n",
      "Epoch 24/100\n",
      "1/1 [==============================] - 0s 2ms/step - loss: 13.2397 - mae: 13.2397\n",
      "Epoch 25/100\n",
      "1/1 [==============================] - 0s 4ms/step - loss: 13.1621 - mae: 13.1621\n",
      "Epoch 26/100\n",
      "1/1 [==============================] - 0s 4ms/step - loss: 13.0845 - mae: 13.0845\n",
      "Epoch 27/100\n",
      "1/1 [==============================] - 0s 3ms/step - loss: 13.0069 - mae: 13.0069\n",
      "Epoch 28/100\n",
      "1/1 [==============================] - 0s 5ms/step - loss: 12.9293 - mae: 12.9293\n",
      "Epoch 29/100\n",
      "1/1 [==============================] - 0s 2ms/step - loss: 12.8517 - mae: 12.8517\n",
      "Epoch 30/100\n",
      "1/1 [==============================] - 0s 1ms/step - loss: 12.7741 - mae: 12.7741\n",
      "Epoch 31/100\n",
      "1/1 [==============================] - 0s 2ms/step - loss: 12.6965 - mae: 12.6965\n",
      "Epoch 32/100\n",
      "1/1 [==============================] - 0s 1ms/step - loss: 12.6189 - mae: 12.6189\n",
      "Epoch 33/100\n",
      "1/1 [==============================] - 0s 2ms/step - loss: 12.5413 - mae: 12.5413\n",
      "Epoch 34/100\n",
      "1/1 [==============================] - 0s 2ms/step - loss: 12.4637 - mae: 12.4637\n",
      "Epoch 35/100\n",
      "1/1 [==============================] - 0s 2ms/step - loss: 12.3861 - mae: 12.3861\n",
      "Epoch 36/100\n",
      "1/1 [==============================] - 0s 2ms/step - loss: 12.3085 - mae: 12.3085\n",
      "Epoch 37/100\n",
      "1/1 [==============================] - 0s 1ms/step - loss: 12.2309 - mae: 12.2309\n",
      "Epoch 38/100\n",
      "1/1 [==============================] - 0s 1ms/step - loss: 12.1533 - mae: 12.1533\n",
      "Epoch 39/100\n",
      "1/1 [==============================] - 0s 2ms/step - loss: 12.0757 - mae: 12.0757\n",
      "Epoch 40/100\n",
      "1/1 [==============================] - 0s 1ms/step - loss: 11.9981 - mae: 11.9981\n",
      "Epoch 41/100\n",
      "1/1 [==============================] - 0s 1ms/step - loss: 11.9205 - mae: 11.9205\n",
      "Epoch 42/100\n",
      "1/1 [==============================] - 0s 2ms/step - loss: 11.8429 - mae: 11.8429\n",
      "Epoch 43/100\n",
      "1/1 [==============================] - 0s 2ms/step - loss: 11.7653 - mae: 11.7653\n",
      "Epoch 44/100\n",
      "1/1 [==============================] - 0s 1ms/step - loss: 11.6877 - mae: 11.6877\n",
      "Epoch 45/100\n",
      "1/1 [==============================] - 0s 1ms/step - loss: 11.6101 - mae: 11.6101\n",
      "Epoch 46/100\n",
      "1/1 [==============================] - 0s 1ms/step - loss: 11.5325 - mae: 11.5325\n",
      "Epoch 47/100\n",
      "1/1 [==============================] - 0s 1ms/step - loss: 11.4549 - mae: 11.4549\n",
      "Epoch 48/100\n",
      "1/1 [==============================] - 0s 1ms/step - loss: 11.3773 - mae: 11.3773\n",
      "Epoch 49/100\n",
      "1/1 [==============================] - 0s 2ms/step - loss: 11.2997 - mae: 11.2997\n",
      "Epoch 50/100\n",
      "1/1 [==============================] - 0s 2ms/step - loss: 11.2221 - mae: 11.2221\n",
      "Epoch 51/100\n",
      "1/1 [==============================] - 0s 2ms/step - loss: 11.1445 - mae: 11.1445\n",
      "Epoch 52/100\n",
      "1/1 [==============================] - 0s 2ms/step - loss: 11.0669 - mae: 11.0669\n",
      "Epoch 53/100\n",
      "1/1 [==============================] - 0s 1ms/step - loss: 10.9893 - mae: 10.9893\n",
      "Epoch 54/100\n",
      "1/1 [==============================] - 0s 2ms/step - loss: 10.9117 - mae: 10.9117\n",
      "Epoch 55/100\n",
      "1/1 [==============================] - 0s 1ms/step - loss: 10.8341 - mae: 10.8341\n",
      "Epoch 56/100\n",
      "1/1 [==============================] - 0s 2ms/step - loss: 10.7565 - mae: 10.7565\n",
      "Epoch 57/100\n",
      "1/1 [==============================] - 0s 2ms/step - loss: 10.6789 - mae: 10.6789\n",
      "Epoch 58/100\n",
      "1/1 [==============================] - 0s 2ms/step - loss: 10.6013 - mae: 10.6013\n",
      "Epoch 59/100\n",
      "1/1 [==============================] - 0s 2ms/step - loss: 10.5237 - mae: 10.5237\n",
      "Epoch 60/100\n",
      "1/1 [==============================] - 0s 3ms/step - loss: 10.4461 - mae: 10.4461\n",
      "Epoch 61/100\n",
      "1/1 [==============================] - 0s 3ms/step - loss: 10.3685 - mae: 10.3685\n",
      "Epoch 62/100\n",
      "1/1 [==============================] - 0s 3ms/step - loss: 10.2909 - mae: 10.2909\n",
      "Epoch 63/100\n",
      "1/1 [==============================] - 0s 2ms/step - loss: 10.2133 - mae: 10.2133\n",
      "Epoch 64/100\n",
      "1/1 [==============================] - 0s 2ms/step - loss: 10.1357 - mae: 10.1357\n",
      "Epoch 65/100\n",
      "1/1 [==============================] - 0s 2ms/step - loss: 10.0581 - mae: 10.0581\n",
      "Epoch 66/100\n",
      "1/1 [==============================] - 0s 4ms/step - loss: 9.9805 - mae: 9.9805\n",
      "Epoch 67/100\n",
      "1/1 [==============================] - 0s 3ms/step - loss: 9.9029 - mae: 9.9029\n",
      "Epoch 68/100\n",
      "1/1 [==============================] - 0s 2ms/step - loss: 9.8253 - mae: 9.8253\n",
      "Epoch 69/100\n",
      "1/1 [==============================] - 0s 3ms/step - loss: 9.7477 - mae: 9.7477\n",
      "Epoch 70/100\n",
      "1/1 [==============================] - 0s 4ms/step - loss: 9.6701 - mae: 9.6701\n",
      "Epoch 71/100\n",
      "1/1 [==============================] - 0s 3ms/step - loss: 9.5925 - mae: 9.5925\n",
      "Epoch 72/100\n",
      "1/1 [==============================] - 0s 2ms/step - loss: 9.5149 - mae: 9.5149\n",
      "Epoch 73/100\n",
      "1/1 [==============================] - 0s 2ms/step - loss: 9.4373 - mae: 9.4373\n",
      "Epoch 74/100\n",
      "1/1 [==============================] - 0s 2ms/step - loss: 9.3597 - mae: 9.3597\n",
      "Epoch 75/100\n",
      "1/1 [==============================] - 0s 4ms/step - loss: 9.2821 - mae: 9.2821\n",
      "Epoch 76/100\n",
      "1/1 [==============================] - 0s 2ms/step - loss: 9.2045 - mae: 9.2045\n",
      "Epoch 77/100\n",
      "1/1 [==============================] - 0s 2ms/step - loss: 9.1269 - mae: 9.1269\n",
      "Epoch 78/100\n",
      "1/1 [==============================] - 0s 2ms/step - loss: 9.0493 - mae: 9.0493\n",
      "Epoch 79/100\n",
      "1/1 [==============================] - 0s 2ms/step - loss: 8.9717 - mae: 8.9717\n",
      "Epoch 80/100\n",
      "1/1 [==============================] - 0s 2ms/step - loss: 8.8941 - mae: 8.8941\n",
      "Epoch 81/100\n",
      "1/1 [==============================] - 0s 3ms/step - loss: 8.8165 - mae: 8.8165\n",
      "Epoch 82/100\n",
      "1/1 [==============================] - 0s 2ms/step - loss: 8.7389 - mae: 8.7389\n",
      "Epoch 83/100\n",
      "1/1 [==============================] - 0s 1ms/step - loss: 8.6613 - mae: 8.6613\n",
      "Epoch 84/100\n",
      "1/1 [==============================] - 0s 1ms/step - loss: 8.5837 - mae: 8.5837\n",
      "Epoch 85/100\n",
      "1/1 [==============================] - 0s 1ms/step - loss: 8.5061 - mae: 8.5061\n",
      "Epoch 86/100\n",
      "1/1 [==============================] - 0s 1ms/step - loss: 8.4285 - mae: 8.4285\n",
      "Epoch 87/100\n",
      "1/1 [==============================] - 0s 2ms/step - loss: 8.3509 - mae: 8.3509\n",
      "Epoch 88/100\n",
      "1/1 [==============================] - 0s 4ms/step - loss: 8.2733 - mae: 8.2733\n",
      "Epoch 89/100\n",
      "1/1 [==============================] - 0s 2ms/step - loss: 8.1957 - mae: 8.1957\n",
      "Epoch 90/100\n",
      "1/1 [==============================] - 0s 2ms/step - loss: 8.1181 - mae: 8.1181\n",
      "Epoch 91/100\n",
      "1/1 [==============================] - 0s 2ms/step - loss: 8.0405 - mae: 8.0405\n",
      "Epoch 92/100\n",
      "1/1 [==============================] - 0s 2ms/step - loss: 7.9629 - mae: 7.9629\n",
      "Epoch 93/100\n",
      "1/1 [==============================] - 0s 4ms/step - loss: 7.8853 - mae: 7.8853\n",
      "Epoch 94/100\n",
      "1/1 [==============================] - 0s 2ms/step - loss: 7.8077 - mae: 7.8077\n",
      "Epoch 95/100\n",
      "1/1 [==============================] - 0s 2ms/step - loss: 7.7301 - mae: 7.7301\n",
      "Epoch 96/100\n",
      "1/1 [==============================] - 0s 2ms/step - loss: 7.6525 - mae: 7.6525\n",
      "Epoch 97/100\n",
      "1/1 [==============================] - 0s 1ms/step - loss: 7.5749 - mae: 7.5749\n",
      "Epoch 98/100\n",
      "1/1 [==============================] - 0s 2ms/step - loss: 7.4973 - mae: 7.4973\n",
      "Epoch 99/100\n",
      "1/1 [==============================] - 0s 3ms/step - loss: 7.4197 - mae: 7.4197\n",
      "Epoch 100/100\n",
      "1/1 [==============================] - 0s 2ms/step - loss: 7.4708 - mae: 7.4708\n"
     ]
    },
    {
     "data": {
      "text/plain": [
       "<keras.src.callbacks.History at 0x7f8c445e8fd0>"
      ]
     },
     "execution_count": 20,
     "metadata": {},
     "output_type": "execute_result"
    }
   ],
   "source": [
    "tf.random.set_seed(42)\n",
    "\n",
    "model = tf.keras.Sequential([\n",
    "\ttf.keras.layers.Dense(1)\n",
    "])\n",
    "\n",
    "model.compile(loss=tf.keras.losses.mae,\n",
    "\t\t\t  optimizer=tf.keras.optimizers.SGD(),\n",
    "\t\t\t  metrics=[\"mae\"])\n",
    "\n",
    "model.fit(tf.expand_dims(X, axis=-1), y, epochs=5)"
   ]
  },
  {
   "cell_type": "code",
   "execution_count": 21,
   "metadata": {},
   "outputs": [
    {
     "name": "stdout",
     "output_type": "stream",
     "text": [
      "1/1 [==============================] - 0s 30ms/step\n"
     ]
    },
    {
     "data": {
      "text/plain": [
       "array([[28.834503]], dtype=float32)"
      ]
     },
     "execution_count": 21,
     "metadata": {},
     "output_type": "execute_result"
    }
   ],
   "source": [
    "model.predict([17.0])"
   ]
  },
  {
   "cell_type": "code",
   "execution_count": null,
   "metadata": {},
   "outputs": [],
   "source": [
    "tf.random.set_seed(42)\n",
    "\n",
    "model = tf.keras.Sequential([\n",
    "\ttf.keras.layers.Dense(1)\n",
    "])\n",
    "\n",
    "model.compile(loss=tf.keras.losses.mae,\n",
    "\t\t\t  optimizer=tf.keras.optimizers.SGD(),\n",
    "\t\t\t  metrics=[\"mae\"])\n",
    "\n",
    "model.fit(tf.expand_dims(X, axis=-1), y, epochs=100)"
   ]
  }
 ],
 "metadata": {
  "kernelspec": {
   "display_name": ".venv",
   "language": "python",
   "name": "python3"
  },
  "language_info": {
   "codemirror_mode": {
    "name": "ipython",
    "version": 3
   },
   "file_extension": ".py",
   "mimetype": "text/x-python",
   "name": "python",
   "nbconvert_exporter": "python",
   "pygments_lexer": "ipython3",
   "version": "3.10.12"
  }
 },
 "nbformat": 4,
 "nbformat_minor": 2
}
