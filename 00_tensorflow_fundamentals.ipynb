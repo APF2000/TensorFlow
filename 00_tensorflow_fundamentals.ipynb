{
 "cells": [
  {
   "cell_type": "code",
   "execution_count": 28,
   "metadata": {},
   "outputs": [
    {
     "name": "stdout",
     "output_type": "stream",
     "text": [
      "2.15.0\n"
     ]
    }
   ],
   "source": [
    "import tensorflow as tf\n",
    "\n",
    "print(tf.__version__)"
   ]
  },
  {
   "cell_type": "code",
   "execution_count": 29,
   "metadata": {},
   "outputs": [
    {
     "data": {
      "text/plain": [
       "(<tf.Tensor: shape=(), dtype=int32, numpy=7>, 0)"
      ]
     },
     "execution_count": 29,
     "metadata": {},
     "output_type": "execute_result"
    }
   ],
   "source": [
    "scalar = tf.constant(7)\n",
    "scalar, scalar.ndim"
   ]
  },
  {
   "cell_type": "code",
   "execution_count": 30,
   "metadata": {},
   "outputs": [
    {
     "data": {
      "text/plain": [
       "(<tf.Tensor: shape=(2,), dtype=int32, numpy=array([10, 20], dtype=int32)>, 1)"
      ]
     },
     "execution_count": 30,
     "metadata": {},
     "output_type": "execute_result"
    }
   ],
   "source": [
    "vector = tf.constant([10, 20])\n",
    "vector, vector.ndim"
   ]
  },
  {
   "cell_type": "code",
   "execution_count": 31,
   "metadata": {},
   "outputs": [
    {
     "data": {
      "text/plain": [
       "(<tf.Tensor: shape=(2, 2), dtype=int32, numpy=\n",
       " array([[10, 20],\n",
       "        [30, 40]], dtype=int32)>,\n",
       " 2)"
      ]
     },
     "execution_count": 31,
     "metadata": {},
     "output_type": "execute_result"
    }
   ],
   "source": [
    "matrix = tf.constant([[10, 20], [30, 40]])\n",
    "matrix, matrix.ndim"
   ]
  },
  {
   "cell_type": "code",
   "execution_count": 32,
   "metadata": {},
   "outputs": [
    {
     "data": {
      "text/plain": [
       "(<tf.Tensor: shape=(3, 2), dtype=float32, numpy=\n",
       " array([[1., 2.],\n",
       "        [3., 4.],\n",
       "        [5., 6.]], dtype=float32)>,\n",
       " 2)"
      ]
     },
     "execution_count": 32,
     "metadata": {},
     "output_type": "execute_result"
    }
   ],
   "source": [
    "matrix_2 = tf.constant([[1,2], [3,4], [5,6]], dtype=tf.float32)\n",
    "matrix_2, matrix_2.ndim"
   ]
  },
  {
   "cell_type": "code",
   "execution_count": 33,
   "metadata": {},
   "outputs": [
    {
     "data": {
      "text/plain": [
       "(<tf.Variable 'Variable:0' shape=(2,) dtype=int32, numpy=array([1, 2], dtype=int32)>,\n",
       " <tf.Tensor: shape=(2,), dtype=int32, numpy=array([1, 2], dtype=int32)>)"
      ]
     },
     "execution_count": 33,
     "metadata": {},
     "output_type": "execute_result"
    }
   ],
   "source": [
    "changeable_tensor = tf.Variable([1, 2])\n",
    "unchangeable_tensor = tf.constant([1, 2])\n",
    "\n",
    "changeable_tensor, unchangeable_tensor"
   ]
  },
  {
   "cell_type": "code",
   "execution_count": 34,
   "metadata": {},
   "outputs": [
    {
     "data": {
      "text/plain": [
       "<tf.Variable 'Variable:0' shape=(2,) dtype=int32, numpy=array([11,  2], dtype=int32)>"
      ]
     },
     "execution_count": 34,
     "metadata": {},
     "output_type": "execute_result"
    }
   ],
   "source": [
    "changeable_tensor[0].assign(11)\n",
    "changeable_tensor"
   ]
  },
  {
   "cell_type": "code",
   "execution_count": 35,
   "metadata": {},
   "outputs": [
    {
     "data": {
      "text/plain": [
       "<tf.Tensor: shape=(), dtype=int32, numpy=1>"
      ]
     },
     "execution_count": 35,
     "metadata": {},
     "output_type": "execute_result"
    }
   ],
   "source": [
    "unchangeable_tensor[0]"
   ]
  },
  {
   "cell_type": "code",
   "execution_count": 36,
   "metadata": {},
   "outputs": [
    {
     "data": {
      "text/plain": [
       "<tf.Tensor: shape=(4, 2), dtype=float32, numpy=\n",
       "array([[-0.7565803 , -0.06854702],\n",
       "       [ 0.07595026, -1.2573844 ],\n",
       "       [-0.23193763, -1.8107855 ],\n",
       "       [ 0.09988727, -0.50998646]], dtype=float32)>"
      ]
     },
     "execution_count": 36,
     "metadata": {},
     "output_type": "execute_result"
    }
   ],
   "source": [
    "random_t_1 = tf.random.Generator.from_seed(42)\n",
    "random_t_1 = random_t_1.normal(shape=(4, 2))\n",
    "random_t_1"
   ]
  },
  {
   "cell_type": "code",
   "execution_count": 37,
   "metadata": {},
   "outputs": [
    {
     "data": {
      "text/plain": [
       "<tf.Tensor: shape=(4, 2), dtype=float32, numpy=\n",
       "array([[-0.7565803 , -0.06854702],\n",
       "       [ 0.07595026, -1.2573844 ],\n",
       "       [-0.23193763, -1.8107855 ],\n",
       "       [ 0.09988727, -0.50998646]], dtype=float32)>"
      ]
     },
     "execution_count": 37,
     "metadata": {},
     "output_type": "execute_result"
    }
   ],
   "source": [
    "random_t_2 = tf.random.Generator.from_seed(42)\n",
    "random_t_2 = random_t_2.normal(shape=(4, 2))\n",
    "random_t_2"
   ]
  },
  {
   "cell_type": "code",
   "execution_count": 38,
   "metadata": {},
   "outputs": [
    {
     "data": {
      "text/plain": [
       "<tf.Tensor: shape=(4, 2), dtype=bool, numpy=\n",
       "array([[ True,  True],\n",
       "       [ True,  True],\n",
       "       [ True,  True],\n",
       "       [ True,  True]])>"
      ]
     },
     "execution_count": 38,
     "metadata": {},
     "output_type": "execute_result"
    }
   ],
   "source": [
    "random_t_1 == random_t_2"
   ]
  },
  {
   "cell_type": "code",
   "execution_count": 39,
   "metadata": {},
   "outputs": [
    {
     "data": {
      "text/plain": [
       "<tf.Tensor: shape=(), dtype=bool, numpy=False>"
      ]
     },
     "execution_count": 39,
     "metadata": {},
     "output_type": "execute_result"
    }
   ],
   "source": [
    "random_t_1 == matrix_2"
   ]
  },
  {
   "cell_type": "code",
   "execution_count": 40,
   "metadata": {},
   "outputs": [
    {
     "data": {
      "text/plain": [
       "<tf.Tensor: shape=(4, 2), dtype=float32, numpy=\n",
       "array([[-0.23193763, -1.8107855 ],\n",
       "       [-0.7565803 , -0.06854702],\n",
       "       [ 0.09988727, -0.50998646],\n",
       "       [ 0.07595026, -1.2573844 ]], dtype=float32)>"
      ]
     },
     "execution_count": 40,
     "metadata": {},
     "output_type": "execute_result"
    }
   ],
   "source": [
    "tf.random.shuffle(random_t_1)"
   ]
  },
  {
   "cell_type": "code",
   "execution_count": 41,
   "metadata": {},
   "outputs": [
    {
     "data": {
      "text/plain": [
       "(<tf.Tensor: shape=(2, 2, 2), dtype=float32, numpy=\n",
       " array([[[1., 1.],\n",
       "         [1., 1.]],\n",
       " \n",
       "        [[1., 1.],\n",
       "         [1., 1.]]], dtype=float32)>,\n",
       " <tf.Tensor: shape=(2, 2, 2), dtype=float32, numpy=\n",
       " array([[[0., 0.],\n",
       "         [0., 0.]],\n",
       " \n",
       "        [[0., 0.],\n",
       "         [0., 0.]]], dtype=float32)>)"
      ]
     },
     "execution_count": 41,
     "metadata": {},
     "output_type": "execute_result"
    }
   ],
   "source": [
    "tf.ones([2, 2, 2]), tf.zeros([2, 2, 2])"
   ]
  },
  {
   "cell_type": "code",
   "execution_count": 42,
   "metadata": {},
   "outputs": [
    {
     "name": "stdout",
     "output_type": "stream",
     "text": [
      "tf.Tensor([ 1  2  3  4  5  6  7  8  9 10 11 12 13 14 15 16 17 18 19 20 21 22 23 24], shape=(24,), dtype=int64)\n",
      "tf.Tensor(\n",
      "[[[ 1  2  3  4  5  6  7  8  9 10 11 12]\n",
      "  [13 14 15 16 17 18 19 20 21 22 23 24]]], shape=(1, 2, 12), dtype=int64)\n",
      "tf.Tensor(\n",
      "[[ 1  2  3  4  5  6  7  8]\n",
      " [ 9 10 11 12 13 14 15 16]\n",
      " [17 18 19 20 21 22 23 24]], shape=(3, 8), dtype=int64)\n"
     ]
    }
   ],
   "source": [
    "import numpy as np\n",
    "\n",
    "array_1 = np.arange(1, 25)\n",
    "\n",
    "print(tf.constant(array_1))\n",
    "print(tf.constant(array_1, shape=(1, 2, 12)))\n",
    "print(tf.constant(array_1, shape=(3, 8)))"
   ]
  },
  {
   "cell_type": "code",
   "execution_count": 43,
   "metadata": {},
   "outputs": [
    {
     "name": "stdout",
     "output_type": "stream",
     "text": [
      "(4, 2)\n",
      "2\n",
      "(4, 2)\n",
      "tf.Tensor(8, shape=(), dtype=int32)\n",
      "tf.Tensor([[-0.7565803  -0.06854702]], shape=(1, 2), dtype=float32)\n"
     ]
    }
   ],
   "source": [
    "print(random_t_1.shape)\n",
    "print(random_t_1.ndim)\n",
    "print(random_t_1.shape)\n",
    "print(tf.size(random_t_1))\n",
    "print(random_t_1[:1])"
   ]
  },
  {
   "cell_type": "markdown",
   "metadata": {},
   "source": [
    "Adicionar dimensões ao tensor"
   ]
  },
  {
   "cell_type": "code",
   "execution_count": 44,
   "metadata": {},
   "outputs": [
    {
     "name": "stdout",
     "output_type": "stream",
     "text": [
      "tf.Tensor(\n",
      "[[[-0.7565803 ]\n",
      "  [-0.06854702]]\n",
      "\n",
      " [[ 0.07595026]\n",
      "  [-1.2573844 ]]\n",
      "\n",
      " [[-0.23193763]\n",
      "  [-1.8107855 ]]\n",
      "\n",
      " [[ 0.09988727]\n",
      "  [-0.50998646]]], shape=(4, 2, 1), dtype=float32)\n",
      "tf.Tensor(\n",
      "[[[-0.7565803 ]\n",
      "  [-0.06854702]]\n",
      "\n",
      " [[ 0.07595026]\n",
      "  [-1.2573844 ]]\n",
      "\n",
      " [[-0.23193763]\n",
      "  [-1.8107855 ]]\n",
      "\n",
      " [[ 0.09988727]\n",
      "  [-0.50998646]]], shape=(4, 2, 1), dtype=float32)\n"
     ]
    }
   ],
   "source": [
    "# ... == :, :, :, :\n",
    "print(random_t_1[..., tf.newaxis])\n",
    "print(tf.expand_dims(random_t_1, axis=-1))"
   ]
  },
  {
   "cell_type": "code",
   "execution_count": 45,
   "metadata": {},
   "outputs": [
    {
     "data": {
      "text/plain": [
       "<tf.Tensor: shape=(1, 4, 2), dtype=float32, numpy=\n",
       "array([[[-0.7565803 , -0.06854702],\n",
       "        [ 0.07595026, -1.2573844 ],\n",
       "        [-0.23193763, -1.8107855 ],\n",
       "        [ 0.09988727, -0.50998646]]], dtype=float32)>"
      ]
     },
     "execution_count": 45,
     "metadata": {},
     "output_type": "execute_result"
    }
   ],
   "source": [
    "tf.expand_dims(random_t_1, axis=0)"
   ]
  },
  {
   "cell_type": "markdown",
   "metadata": {},
   "source": [
    "Tensor operations"
   ]
  },
  {
   "cell_type": "code",
   "execution_count": 46,
   "metadata": {},
   "outputs": [
    {
     "data": {
      "text/plain": [
       "(<tf.Tensor: shape=(2,), dtype=int32, numpy=array([10, 20], dtype=int32)>,\n",
       " <tf.Tensor: shape=(2, 2), dtype=int32, numpy=\n",
       " array([[10, 20],\n",
       "        [30, 40]], dtype=int32)>)"
      ]
     },
     "execution_count": 46,
     "metadata": {},
     "output_type": "execute_result"
    }
   ],
   "source": [
    "vector, matrix"
   ]
  },
  {
   "cell_type": "code",
   "execution_count": 47,
   "metadata": {},
   "outputs": [
    {
     "name": "stdout",
     "output_type": "stream",
     "text": [
      "tf.Tensor(\n",
      "[[20 30]\n",
      " [40 50]], shape=(2, 2), dtype=int32)\n",
      "tf.Tensor(\n",
      "[[ 0 10]\n",
      " [20 30]], shape=(2, 2), dtype=int32)\n",
      "tf.Tensor(\n",
      "[[100 200]\n",
      " [300 400]], shape=(2, 2), dtype=int32)\n",
      "tf.Tensor(\n",
      "[[1. 2.]\n",
      " [3. 4.]], shape=(2, 2), dtype=float64)\n",
      "tf.Tensor(\n",
      "[[1 2]\n",
      " [3 4]], shape=(2, 2), dtype=int32)\n"
     ]
    }
   ],
   "source": [
    "print(matrix + 10)\n",
    "print(matrix - 10)\n",
    "print(matrix * 10)\n",
    "print(matrix / 10)\n",
    "print(matrix // 10)"
   ]
  },
  {
   "cell_type": "code",
   "execution_count": 48,
   "metadata": {},
   "outputs": [
    {
     "name": "stdout",
     "output_type": "stream",
     "text": [
      "tf.Tensor(\n",
      "[[ 100  400]\n",
      " [ 900 1600]], shape=(2, 2), dtype=int32)\n",
      "tf.Tensor(\n",
      "[[100 200]\n",
      " [300 400]], shape=(2, 2), dtype=int32)\n",
      "tf.Tensor(\n",
      "[[100 400]\n",
      " [300 800]], shape=(2, 2), dtype=int32)\n",
      "tf.Tensor(\n",
      "[[100 400]\n",
      " [300 800]], shape=(2, 2), dtype=int32)\n"
     ]
    }
   ],
   "source": [
    "print(tf.multiply(matrix, matrix))\n",
    "print(tf.multiply(matrix, 10))\n",
    "print(tf.multiply(matrix, vector))\n",
    "print(tf.multiply(vector, matrix))"
   ]
  },
  {
   "cell_type": "code",
   "execution_count": 49,
   "metadata": {},
   "outputs": [
    {
     "name": "stdout",
     "output_type": "stream",
     "text": [
      "tf.Tensor(\n",
      "[[20 40]\n",
      " [60 80]], shape=(2, 2), dtype=int32)\n",
      "tf.Tensor(\n",
      "[[20 40]\n",
      " [40 60]], shape=(2, 2), dtype=int32)\n"
     ]
    }
   ],
   "source": [
    "print(tf.add(matrix, matrix))\n",
    "print(tf.add(matrix, vector))"
   ]
  },
  {
   "cell_type": "markdown",
   "metadata": {},
   "source": [
    "Matrix multiplication"
   ]
  },
  {
   "cell_type": "code",
   "execution_count": 50,
   "metadata": {},
   "outputs": [
    {
     "name": "stdout",
     "output_type": "stream",
     "text": [
      "tf.Tensor(\n",
      "[[ 700 1000]\n",
      " [1500 2200]], shape=(2, 2), dtype=int32)\n",
      "tf.Tensor(\n",
      "[[ 700 1000]\n",
      " [1500 2200]], shape=(2, 2), dtype=int32)\n",
      "tf.Tensor(\n",
      "[[ 500]\n",
      " [1100]], shape=(2, 1), dtype=int32)\n",
      "tf.Tensor(\n",
      "[[[100]\n",
      "  [200]]\n",
      "\n",
      " [[600]\n",
      "  [800]]], shape=(2, 2, 1), dtype=int32)\n"
     ]
    }
   ],
   "source": [
    "print(tf.matmul(matrix, matrix))\n",
    "print(matrix @ matrix)\n",
    "\n",
    "print(tf.matmul(matrix, vector[..., tf.newaxis]))\n",
    "print(tf.matmul(matrix[..., tf.newaxis], vector[..., tf.newaxis][..., tf.newaxis]))"
   ]
  },
  {
   "cell_type": "code",
   "execution_count": 51,
   "metadata": {},
   "outputs": [
    {
     "name": "stdout",
     "output_type": "stream",
     "text": [
      "tf.Tensor(\n",
      "[[-0.7565803  -0.06854702]\n",
      " [ 0.07595026 -1.2573844 ]\n",
      " [-0.23193763 -1.8107855 ]\n",
      " [ 0.09988727 -0.50998646]], shape=(4, 2), dtype=float32) tf.Tensor(\n",
      "[[-0.7565803  -0.06854702]\n",
      " [ 0.07595026 -1.2573844 ]\n",
      " [-0.23193763 -1.8107855 ]\n",
      " [ 0.09988727 -0.50998646]], shape=(4, 2), dtype=float32)\n",
      "tf.Tensor(\n",
      "[[ 0.5883124   0.17598528 -0.06430944  0.9862703 ]\n",
      " [ 0.2341723   2.2716475  -0.11982825  0.5457503 ]\n",
      " [ 0.59546876  3.294843   -0.19849014  1.2151109 ]\n",
      " [ 0.04271232  0.91662914 -0.04335469  0.13448949]], shape=(4, 4), dtype=float32)\n",
      "tf.Tensor(\n",
      "[[[ 0.57711244]\n",
      "  [ 0.02872748]\n",
      "  [ 0.2996034 ]\n",
      "  [-0.04061469]]\n",
      "\n",
      " [[ 0.02872748]\n",
      "  [ 1.586784  ]\n",
      "  [ 2.2592378 ]\n",
      "  [ 0.6488355 ]]\n",
      "\n",
      " [[ 0.2996034 ]\n",
      "  [ 2.2592378 ]\n",
      "  [ 3.3327394 ]\n",
      "  [ 0.9003085 ]]\n",
      "\n",
      " [[-0.04061469]\n",
      "  [ 0.6488355 ]\n",
      "  [ 0.9003085 ]\n",
      "  [ 0.27006367]]], shape=(4, 4, 1), dtype=float32)\n",
      "tf.Tensor(\n",
      "[[[2.1638963]\n",
      "  [0.9484389]]\n",
      "\n",
      " [[0.9484389]\n",
      "  [3.6028032]]], shape=(2, 2, 1), dtype=float32)\n"
     ]
    }
   ],
   "source": [
    "print(random_t_1, random_t_2)\n",
    "print(random_t_1 @ tf.reshape(random_t_2, shape=(2, 4)))\n",
    "print(tf.reshape(random_t_1, shape=(1, 4, 2)) @ tf.reshape(random_t_2, shape=(4, 2, 1)))\n",
    "print(tf.reshape(random_t_1, shape=(1, 2, 4)) @ tf.reshape(random_t_2, shape=(2, 4, 1)))\n",
    "#print(tf.reshape(random_t_1, shape=(4, 2, 1)) @ tf.reshape(random_t_2, shape=(2, 1, 4)))\n"
   ]
  },
  {
   "cell_type": "code",
   "execution_count": 53,
   "metadata": {},
   "outputs": [
    {
     "data": {
      "text/plain": [
       "<tf.Tensor: shape=(4, 2, 4, 2), dtype=float32, numpy=\n",
       "array([[[[ 0.57241374,  0.05186132],\n",
       "         [-0.05746247,  0.95131224],\n",
       "         [ 0.17547944,  1.3700047 ],\n",
       "         [-0.07557274,  0.3858457 ]],\n",
       "\n",
       "        [[ 0.05186132,  0.00469869],\n",
       "         [-0.00520616,  0.08618996],\n",
       "         [ 0.01589863,  0.12412395],\n",
       "         [-0.00684697,  0.03495805]]],\n",
       "\n",
       "\n",
       "       [[[-0.05746247, -0.00520616],\n",
       "         [ 0.00576844, -0.09549867],\n",
       "         [-0.01761572, -0.13752963],\n",
       "         [ 0.00758646, -0.0387336 ]],\n",
       "\n",
       "        [[ 0.95131224,  0.08618996],\n",
       "         [-0.09549867,  1.5810156 ],\n",
       "         [ 0.29163477,  2.2768536 ],\n",
       "         [-0.12559669,  0.641249  ]]],\n",
       "\n",
       "\n",
       "       [[[ 0.17547944,  0.01589863],\n",
       "         [-0.01761572,  0.29163477],\n",
       "         [ 0.05379507,  0.41998932],\n",
       "         [-0.02316762,  0.11828505]],\n",
       "\n",
       "        [[ 1.3700047 ,  0.12412395],\n",
       "         [-0.13752963,  2.2768536 ],\n",
       "         [ 0.41998932,  3.2789443 ],\n",
       "         [-0.18087442,  0.9234761 ]]],\n",
       "\n",
       "\n",
       "       [[[-0.07557274, -0.00684697],\n",
       "         [ 0.00758646, -0.12559669],\n",
       "         [-0.02316762, -0.18087442],\n",
       "         [ 0.00997747, -0.05094115]],\n",
       "\n",
       "        [[ 0.3858457 ,  0.03495805],\n",
       "         [-0.0387336 ,  0.641249  ],\n",
       "         [ 0.11828505,  0.9234761 ],\n",
       "         [-0.05094115,  0.26008618]]]], dtype=float32)>"
      ]
     },
     "execution_count": 53,
     "metadata": {},
     "output_type": "execute_result"
    }
   ],
   "source": [
    "tf.tensordot(matrix, matrix, axes=0)\n",
    "tf.tensordot(random_t_1, random_t_1, axes=0)"
   ]
  },
  {
   "cell_type": "code",
   "execution_count": 61,
   "metadata": {},
   "outputs": [
    {
     "name": "stdout",
     "output_type": "stream",
     "text": [
      "tf.Tensor(-1.8107855, shape=(), dtype=float32)\n",
      "tf.Tensor(0.09988727, shape=(), dtype=float32)\n",
      "tf.Tensor(-0.557423, shape=(), dtype=float32)\n",
      "tf.Tensor(-4.459384, shape=(), dtype=float32)\n",
      "tf.Tensor(0.6404038, shape=(), dtype=float32)\n",
      "tf.Tensor(0.41011703, shape=(), dtype=float32)\n"
     ]
    }
   ],
   "source": [
    "print(tf.reduce_min(random_t_1))\n",
    "print(tf.reduce_max(random_t_1))\n",
    "print(tf.reduce_mean(random_t_1))\n",
    "print(tf.reduce_sum(random_t_1))\n",
    "print(tf.math.reduce_std(random_t_1))\n",
    "print(tf.math.reduce_variance(random_t_1))"
   ]
  },
  {
   "cell_type": "code",
   "execution_count": 70,
   "metadata": {},
   "outputs": [
    {
     "name": "stdout",
     "output_type": "stream",
     "text": [
      "tf.Tensor([0 2], shape=(2,), dtype=int64)\n"
     ]
    }
   ],
   "source": [
    "#print(random_t_1[tuple(tf.argmin(random_t_1))])\n",
    "print(tf.argmin(random_t_1))"
   ]
  },
  {
   "cell_type": "code",
   "execution_count": 69,
   "metadata": {},
   "outputs": [
    {
     "data": {
      "text/plain": [
       "<tf.Tensor: shape=(4, 2), dtype=float32, numpy=\n",
       "array([[-0.7565803 , -0.06854702],\n",
       "       [ 0.07595026, -1.2573844 ],\n",
       "       [-0.23193763, -1.8107855 ],\n",
       "       [ 0.09988727, -0.50998646]], dtype=float32)>"
      ]
     },
     "execution_count": 69,
     "metadata": {},
     "output_type": "execute_result"
    }
   ],
   "source": [
    "tf.squeeze(random_t_1)"
   ]
  },
  {
   "cell_type": "code",
   "execution_count": null,
   "metadata": {},
   "outputs": [],
   "source": []
  }
 ],
 "metadata": {
  "kernelspec": {
   "display_name": ".venv",
   "language": "python",
   "name": "python3"
  },
  "language_info": {
   "codemirror_mode": {
    "name": "ipython",
    "version": 3
   },
   "file_extension": ".py",
   "mimetype": "text/x-python",
   "name": "python",
   "nbconvert_exporter": "python",
   "pygments_lexer": "ipython3",
   "version": "3.10.12"
  }
 },
 "nbformat": 4,
 "nbformat_minor": 2
}
